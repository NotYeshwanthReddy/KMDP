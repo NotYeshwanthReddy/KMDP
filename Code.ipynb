{
 "cells": [
  {
   "cell_type": "markdown",
   "metadata": {},
   "source": [
    "# Finding the K1 Most Demanding products using K-means algorithm.\n",
    "The project has been clearly explained below along with \n",
    "- proper comments in the code, \n",
    "- Procedure, \n",
    "- Work done,\n",
    "- Results obtained,\n",
    "- Validaion and\n",
    "- Conclusion.\n",
    "<br>\n",
    "\n",
    "\n",
    "We would like consider the explanation below is clear and be used as a report of our work done.<br>\n",
    "Please have a look at the git repo for the dataset.<br>\n",
    "Github repo-<br>\n",
    "<a href='https://github.com/Yeshwanth-Reddyy/KMDP'>https://github.com/Yeshwanth-Reddyy/KMDP</a>"
   ]
  },
  {
   "cell_type": "markdown",
   "metadata": {},
   "source": [
    "# Imports"
   ]
  },
  {
   "cell_type": "code",
   "execution_count": 1,
   "metadata": {
    "colab_type": "text",
    "id": "0F6HPus74epQ"
   },
   "outputs": [],
   "source": [
    "\"\"\"\n",
    "Created on \t: 12/10/19\n",
    "Developer \t: Yeshwanth Reddy\n",
    "File Type\t: Python\n",
    "\"\"\"\n",
    "\n",
    "import pandas as pd\n",
    "import numpy as np\n",
    "import heapq\n",
    "import random\n",
    "import datetime\n",
    "from sklearn.cluster import KMeans\n",
    "from sklearn.cluster import MeanShift\n",
    "from sklearn.cluster import AffinityPropagation\n",
    "import matplotlib.pyplot as plt\n"
   ]
  },
  {
   "cell_type": "markdown",
   "metadata": {
    "colab_type": "text",
    "id": "0Lf407M54epu"
   },
   "source": [
    "# Introduction and Data Pre-Processing\n",
    "Before Starting the project, we have the car dataset with all the \"'d' no. of features of each car\". Now, we need to generate the customers data based on these features.<br>\n",
    "Along with all the feature details, we also know the class of a car (unacc, acc, good, vgood). So, we can use this data to create satisfaction bit stings for each car assuming we have 500 customers.<br>\n",
    "I have used a random function and have chosen if a customer is satisfied by a product or not. If the car is of class vgood, then the random function gives 1 as output for 90% of times.<br>\n",
    "vgood - 90%<br>\n",
    "good - 75%<br>\n",
    "acc - 50%<br>\n",
    "unacc - 10%<br>\n",
    "\n",
    "Using this technique, I have constructed a SBS table of dimensions 1728x575. The rows are the products and columns are the customers. It has been saved to a SBS.csv file in data_process folder."
   ]
  },
  {
   "cell_type": "code",
   "execution_count": 2,
   "metadata": {
    "colab": {
     "base_uri": "https://localhost:8080/",
     "height": 0
    },
    "colab_type": "code",
    "id": "Q8Qa5HlX4epx",
    "outputId": "7062aec9-08f2-4e57-de3d-52c5a019f05c"
   },
   "outputs": [
    {
     "name": "stdout",
     "output_type": "stream",
     "text": [
      "Reading data...\n",
      "Formatting data...\n"
     ]
    }
   ],
   "source": [
    "\"\"\" Our Data format:                       \"\"\"\n",
    "#    buyingCost   v-high, high, med, low\n",
    "#    maintCost    v-high, high, med, low\n",
    "#    doors        2, 3, 4, 5-more\n",
    "#    seats        2, 4, more\n",
    "#    lug_boot     small, med, big\n",
    "#    safety       low, med, high\n",
    "\n",
    "# Reads data file and creates a npArray \"data\" (uint8 format).\n",
    "def read_Data(fileLocation = \"./dataset/car/car.data\"):\n",
    "\tprint(\"Reading data...\")\n",
    "\tdata = pd.read_csv(fileLocation, header=None)\n",
    "\tdata = np.array(data)\n",
    "\tprint(\"Formatting data...\")\n",
    "\tdata[data=='5more'] = 5\n",
    "\tdata[data=='vhigh'] = 3\n",
    "\tdata[data=='more'] = 2\n",
    "\tdata[data=='high'] = 2\n",
    "\tdata[data=='big'] = 2\n",
    "\tdata[data=='med'] = 1\n",
    "\tdata[data=='low'] = 0\n",
    "\tdata[data=='small'] = 0\n",
    "\t# Classes defining if a user BUYs or NOT.\n",
    "\tdata[data=='unacc'] = 0\n",
    "\tdata[data=='acc'] = 1\n",
    "\tdata[data=='good'] = 2\n",
    "\tdata[data=='vgood'] = 3\n",
    "\tdata = np.array(data, dtype=np.uint8)\n",
    "\tnp.random.shuffle(data)\n",
    "\treturn data\n",
    "\n",
    "# Creates and saves a \"Satisfaction Bit String table\" from the \"data\" for 500 customers.\n",
    "def create_SBS(data = read_Data()):\n",
    "\tno_cust = 500\n",
    "\tprint(\"creating Empty SBS table...\")\n",
    "\tSBS = np.zeros((data.shape[0], no_cust), dtype=np.uint8)\n",
    "\t\n",
    "\tprint(\"Filling SBS table...\")\n",
    "\tfor i in range(data.shape[0]):\n",
    "\t\tfor j in range(SBS.shape[1]):\n",
    "\t\t\tif data[i][-1] == 3: \t# 90% chance\n",
    "\t\t\t\tSBS[i][j]= 0 if random.randint(0,100)%10==0 else 1\n",
    "\t\t\telif data[i][-1] == 2:  # 75% chance\n",
    "\t\t\t\tSBS[i][j]= 0 if random.randint(0,100)%4==0 else 1\n",
    "\t\t\telif data[i][-1] == 1:  # 50% chance\n",
    "\t\t\t\tSBS[i][j]= 0 if random.randint(0,100)%2==0 else 1\n",
    "\t\t\telif data[i][-1] == 0:  # 10% chance\n",
    "\t\t\t\tSBS[i][j]= 1 if random.randint(0,100)%10==0 else 0\n",
    "\n",
    "\tprint(\"Saving to file...\")\n",
    "\tfileName = fileLocation.split(\"/\")[-1].split(\".\")[0]\n",
    "\tpd.DataFrame(data, dtype=np.uint8).to_csv(\"./data_process/\"+fileName+\".csv\", header=None, index=None)\n",
    "\tpd.DataFrame(SBS, dtype=np.uint8).to_csv(\"./data_process/\"+fileName+\"_SBS.csv\", header=None, index=None)\n",
    "\treturn SBS\n",
    "\n",
    "# Reads the saved Satisfaction Bit String from saved file.\n",
    "def read_SBS(fileLocation='./data_process/car_SBS.csv'):\n",
    "\tSBS = pd.read_csv(fileLocation, header=None)\n",
    "\tSBS = np.array(SBS, dtype=np.uint8)\n",
    "\treturn SBS\n"
   ]
  },
  {
   "cell_type": "markdown",
   "metadata": {
    "colab_type": "text",
    "id": "JNlJmU8Z4ep-"
   },
   "source": [
    "# K1MostDemandingProducts\n",
    "There are 2 things.\n",
    "- Predicting the satisfaction bit string(SBS) of a candidate product. <small>(done in pre-processing step)</small>.\n",
    "- Predicting the k-most demanding products based on the SBS.\n",
    "\n",
    "**Formulas Used:**-<br>\n",
    "$C$ = {$c_0, c_1, c_2,....c_nc$}  -- Customers<br>\n",
    "$EP$ = {$ep_0, ep_1, ep_2,....ep_nep$}  -- Existing products<br>\n",
    "$CP$ = {$cp_0, cp_1, cp_2,....cp_ncp$}  -- Candidate products<br>\n",
    "$kCP$ = {$kCP_1, kCP_2, kCP_3,....kCP_n$}  --  Set of Clusters<br>\n",
    "$kCP_1$ = {$cp_0, cp_3, cp_5,....cp_9$}  --  Cluster of candidate products<br><br>\n",
    "\n",
    "**(Counts no. of products a customer $c$ likes in the set of candidate products $CP$)**<br>\n",
    "$N$($CP, c$) = return No. of products $c$ likes in set $CP$. <br><br>\n",
    "**(Calculating the probability of a customer $c_j$ buying a candidate product $cp_i$)**<br>\n",
    "$p$($cp_i, c_j$) = $\\frac{1}{N(EP, c)+N(CP, c)}$ ------ if $c_j$ likes $cp_i$. <br>\n",
    "$p$($cp_i, c_j$) = 0  -------------------------------------  otherwise<br><br>\n",
    "**(Estimating the total buying probability of each product)**<br>\n",
    "E($kCP, C$) = $\\sum_{i=1}^{kcp} \\sum_{j=1}^{C} p(cp_i, c_j)$ \n"
   ]
  },
  {
   "cell_type": "code",
   "execution_count": 3,
   "metadata": {
    "colab": {},
    "colab_type": "code",
    "id": "ewc5gdE94eqC"
   },
   "outputs": [],
   "source": [
    "def N_Calc(SBS, EP, CP):\n",
    "\tNsbs = [[0]*2]*w\n",
    "\tfor i in range(w):\n",
    "\t\tEP_count=0\n",
    "\t\tCP_count=0\n",
    "\t\tfor j in EP:\n",
    "\t\t\tif SBS[j][i]==1:\n",
    "\t\t\t\tEP_count+=1\n",
    "\t\tfor j in CP:\n",
    "\t\t\tif SBS[j][i]==1:\n",
    "\t\t\t\tCP_count+=1\n",
    "\t\tNsbs[i][0] = EP_count\n",
    "\t\tNsbs[i][1] = CP_count\n",
    "\treturn Nsbs\n",
    "\n",
    "def N(cust, Nsbs):\n",
    "\tEP_count = Nsbs[cust][0]\n",
    "\tCP_count = Nsbs[cust][1]\n",
    "\treturn EP_count+CP_count\n",
    "\n",
    "def P(cp_i, c_j, Nsbs, SBS):\n",
    "\tp=0\n",
    "\t# print(cp_i, c_j)\n",
    "\tif SBS[cp_i][c_j]==1:\n",
    "\t\tp = 1 / N(c_j, Nsbs)\n",
    "\telse:\n",
    "\t\tpass\n",
    "\treturn p\n",
    "\n",
    "def E(kCP, C, Nsbs, SBS):\n",
    "\tE = 0\n",
    "\tfor cp_i in kCP:\n",
    "\t\tfor c_j in C:\n",
    "\t\t\tE += P(cp_i, c_j, Nsbs, SBS)\n",
    "\treturn E\n"
   ]
  },
  {
   "cell_type": "markdown",
   "metadata": {
    "colab_type": "text",
    "id": "r9WBiwHy4eqR"
   },
   "source": [
    "## Single product based Greedy algorithm\n",
    "\n",
    "Let S denote a set containing a single candidate product cp in CP. <br>\n",
    "The SPG algorithm uses E(S, C), which computes the expected number of the customers in C for S, as the ranking function of the candidate products. <br><br>\n",
    "S = {$cp_0$}<br>\n",
    "$p$($S, c_j$) = $\\frac{1}{N(EP, c_j)+N(CP, c_j)}$ -- if $c_j$ likes S<br>\n",
    "$p$($S, c_j$) = 0  -- otherwise<br><br>\n",
    "E($S, C$) = $\\sum_{j=1}^{C} p(S, c_j)$ \n",
    "\n",
    "The candidate products with the top-k values of the ranking function are selected to form an approximate solution of the k-MDP discovering problem.<br>\n",
    "Algorithm 1: The SPG Algorithm <br>\n",
    "Input: N_vector(EP,C), set C of customer requirements, set CP\n",
    "of candidate product, and the value k <br>\n",
    "Output: A set of k candidate product\n",
    "``` python\n",
    "def SPGA(k):\n",
    "    for each candidate product cp in CP:\n",
    "        \"\"\"This is not needed as we already have it in our dataset.\"\"\"\n",
    "#         Compute the satisfaction bit string of cp;\n",
    "        S={cp};\n",
    "        Compute E(S,C);\n",
    "        if i<=k\n",
    "            Insert E(S,C) into the top-k list\n",
    "        elif E(S,C)> the smallest value in top-k list\n",
    "            Replace the smallest in top-k list with E(S,C);\n",
    "        Put the corresponding candidate products in the top-k list to set the kCP;\n",
    "    return kCP;\n",
    "```"
   ]
  },
  {
   "cell_type": "code",
   "execution_count": 4,
   "metadata": {
    "colab": {},
    "colab_type": "code",
    "id": "xDdz0u4m4eqU"
   },
   "outputs": [],
   "source": [
    "def SPG(k, SBS, EP, CP):\n",
    "\tk = [(0, 0)]*k\n",
    "\theapq.heapify(k)\n",
    "\tNsbs = N_Calc(SBS, EP, CP)\n",
    "\tfor cp in CP:\n",
    "\t\tS = set()\n",
    "\t\tS.add(cp)\n",
    "\t\te = E(S, C, Nsbs, SBS)\n",
    "\t\theapq.heappush(k, (e, cp))\n",
    "\t\theapq.heappop(k)\n",
    "\treturn k\n"
   ]
  },
  {
   "cell_type": "markdown",
   "metadata": {
    "colab_type": "text",
    "id": "md0nksdR4eqf"
   },
   "source": [
    "## Incremental Based Greedy Algorithm\n",
    "\n",
    "Let S denotes an empty set initially. <br>\n",
    "In each iteration, the IG algorithm selects one of the unselected candidate products cp, which has the maximum E(S $\\bigcup$ {cp}, C) value. <br>\n",
    "After inserting the selected candidate product into S, the values of the selection function for the unselected candidate products are recomputed in the following iteration to decide the next selected candidate product. <br>\n",
    "The above process continues until k candidate products have been selected.<br>\n",
    "\n",
    "Algorithm 2: The IG algorithm <br>\n",
    "Input: N_vector(EP,C), set C of customer requirements, set CP of candidate product, and the value k <br>\n",
    "Output: A set of k candidate product<br>\n",
    "\n",
    "```python\n",
    "def IG(k):\n",
    "    \"\"\"This is not needed as we already have the SBS in our dataset.\"\"\"\n",
    "#     for each candidate product cp in CP\n",
    "#         Compute the satisfaction bit string of cp;\n",
    "    S= null;\n",
    "    while (|S| < k):\n",
    "        max_E=0\n",
    "        for each candidate product cp in CP:\n",
    "            temp_S = S U {cp};\n",
    "            Compute E(temp_S,C);\n",
    "            if ( E(temp_S,C) > max_E ):\n",
    "                max_P={cp};\n",
    "                Max_E= E(temp_S,C)\n",
    "        S=S U max_P;\n",
    "        CP=CP – max_P; \n",
    "\n",
    "    return kCP;\n",
    "```"
   ]
  },
  {
   "cell_type": "code",
   "execution_count": 5,
   "metadata": {
    "colab": {},
    "colab_type": "code",
    "id": "9D5rVLTH4eqj"
   },
   "outputs": [],
   "source": [
    "def IG(k, SBS, EP, CP):\n",
    "\tS = np.array((),dtype=np.uint8)\n",
    "\tNsbs = N_Calc(SBS, EP, CP)\n",
    "\twhile(len(S) < k):\n",
    "\t\tmax_E=0\n",
    "\t\tmax_P=0\n",
    "\t\tfor cp in CP:\n",
    "\t\t\ttemp_S = np.append(S, cp)\n",
    "\t\t\te = E(temp_S, C, Nsbs, SBS)\n",
    "\t\t\tif (e > max_E):\n",
    "\t\t\t\tmax_E = e\n",
    "\t\t\t\tmax_P = cp\n",
    "\t\tS = np.append(S, max_P)\n",
    "\t\tindex = np.argwhere(CP==max_P)\n",
    "\t\tCP = np.delete(CP, index)\n",
    "\treturn S\n"
   ]
  },
  {
   "cell_type": "markdown",
   "metadata": {
    "colab_type": "text",
    "id": "hdA2lo6l3IXm"
   },
   "source": [
    "## Upper Bound Pruning Algorithm\n",
    "\n",
    "Not Written yet.<br>\n",
    "\n",
    "Algorithm 3: The UBP algorithm <br>\n",
    "Input: k, SBS, EP, CP <br>\n",
    "Output: A set of k candidate product<br>\n",
    "\n",
    "```python\n",
    "def UBP(k, SBS, EP, CP):\n",
    "    return kCP;\n",
    "```"
   ]
  },
  {
   "cell_type": "code",
   "execution_count": 6,
   "metadata": {
    "colab": {},
    "colab_type": "code",
    "id": "sEqVsjal3XKU"
   },
   "outputs": [],
   "source": [
    "def UBP(k, SBS, EP, CP):\n",
    "  return k"
   ]
  },
  {
   "cell_type": "markdown",
   "metadata": {
    "colab_type": "text",
    "id": "94dRliaq4eq7"
   },
   "source": [
    "# Main Code"
   ]
  },
  {
   "cell_type": "code",
   "execution_count": 7,
   "metadata": {
    "colab": {
     "base_uri": "https://localhost:8080/",
     "height": 121
    },
    "colab_type": "code",
    "id": "XRENtqbH5tqp",
    "outputId": "a55ed5e2-99d2-4043-e897-97cbea963062"
   },
   "outputs": [
    {
     "name": "stdout",
     "output_type": "stream",
     "text": [
      "Reading data...\n",
      "Formatting data...\n",
      "Reading SBS...\n",
      "creating Empty SBS table...\n",
      "Filling SBS table...\n",
      "Saving to file...\n"
     ]
    }
   ],
   "source": [
    "# Change the fileLocation to your car.data folder.\n",
    "fileLocation = \"./dataset/car/car.data\"\n",
    "SBS_Location = \"./data_process/car/car_SBS.csv\"\n",
    "\n",
    "# Creating the Satisfaction Bit String of every customer\n",
    "File from local system\n",
    "try:\n",
    "\tSBS = read_SBS()\n",
    "except:\n",
    "\tSBS = create_SBS(fileLocation)\n",
    "\n",
    "# # File from google Drive\n",
    "# data = read_Data()\n",
    "# print(\"Reading SBS...\")\n",
    "# SBS = create_SBS(data)"
   ]
  },
  {
   "cell_type": "code",
   "execution_count": 8,
   "metadata": {
    "colab": {
     "base_uri": "https://localhost:8080/",
     "height": 121
    },
    "colab_type": "code",
    "id": "2MZknWKU4eq_",
    "outputId": "136f9274-da25-42dc-9777-1956e73b4d13"
   },
   "outputs": [
    {
     "name": "stdout",
     "output_type": "stream",
     "text": [
      "Single Product Based Greedy Algorithm : \n",
      " [(1.1043689320388392, 863), (1.1067961165048588, 1056), (1.1043689320388392, 874), (1.121359223300976, 340), (1.1140776699029173, 675)]\n",
      "Time taken: 4\n",
      "Incremental Based Greedy Algorithm : \n",
      " [ 340  675 1056  741  863]\n",
      "Time taken: 36\n"
     ]
    }
   ],
   "source": [
    "# Taking K1 as 5\n",
    "k=5\n",
    "h=len(SBS)\n",
    "w=len(SBS[0])\n",
    "\n",
    "# Creating Sets of Customers, Candidate Products and Existing Products.\n",
    "C = np.arange(0, w)\n",
    "CP = np.arange(0, (h*70)//100)\n",
    "EP = np.arange((h*70)//100, h)\n",
    "# kCP = ?\n",
    "\n",
    "# SPGA\n",
    "timeTaken = datetime.datetime.now()\n",
    "SPG_k = SPG(k, SBS, EP, CP)\n",
    "timeTaken = datetime.datetime.now() - timeTaken \n",
    "print(\"Single Product Based Greedy Algorithm : \\n\", SPG_k)\n",
    "print(\"Time taken:\", timeTaken.seconds)\n",
    "\n",
    "# IG\n",
    "timeTaken = datetime.datetime.now()\n",
    "IG_k = IG(k, SBS, EP, CP)\n",
    "timeTaken = datetime.datetime.now() - timeTaken\n",
    "print(\"Incremental Based Greedy Algorithm : \\n\", IG_k)\n",
    "print(\"Time taken:\", timeTaken.seconds)\n",
    "\n",
    "# # UBP\n",
    "# timeTaken = datetime.datetime.now()\n",
    "# UBP_k = UBP(k, SBS, EP, CP)\n",
    "# timeTaken = datetime.datetime.now() - timeTaken\n",
    "# print(\"Upper Bound Pruning Algorithm : \\n\", UBP_k)\n",
    "# print(\"Time taken:\", timeTaken.seconds)"
   ]
  },
  {
   "cell_type": "markdown",
   "metadata": {
    "colab_type": "text",
    "id": "e30tuStM-QGO"
   },
   "source": [
    "## K-Means\n",
    "Plotting the different square error values for each no. of clusters."
   ]
  },
  {
   "cell_type": "code",
   "execution_count": 9,
   "metadata": {
    "colab": {
     "base_uri": "https://localhost:8080/",
     "height": 279
    },
    "colab_type": "code",
    "id": "q6jV5lgU4erI",
    "outputId": "bea9eee1-5021-4f81-aacb-abbb92ca7bec"
   },
   "outputs": [
    {
     "data": {
      "image/png": "[encoded data removed]",
      "text/plain": [
       "<Figure size 432x288 with 1 Axes>"
      ]
     },
     "metadata": {
      "needs_background": "light"
     },
     "output_type": "display_data"
    }
   ],
   "source": [
    "cost =[] \n",
    "# calculatig for 1-50 clusters\n",
    "for i in range(1, 40): \n",
    "    KM = KMeans(n_clusters = i, max_iter = 200) \n",
    "    KM.fit(SBS) \n",
    "    cost.append(KM.inertia_) \n",
    "# Plotting the cost function\n",
    "plt.plot(range(1, 40), cost, linewidth ='3') \n",
    "plt.xlabel(\"Value of K\") \n",
    "plt.ylabel(\"Sqaured Error (Cost)\") \n",
    "plt.show()"
   ]
  },
  {
   "cell_type": "markdown",
   "metadata": {
    "colab_type": "text",
    "id": "P0FpguW2KoeE"
   },
   "source": [
    "The error suddenly drops at 4 (clusters) and is almost constant for any higher number of clusters. So, we will be clustering our data into 5 clusters and the algorithms will be applied over one of the cluster.<br>\n",
    "Generally, to select that one cluster, we pick 5-10% of our data, apply our algorithms over it and see from which cluster max no. of products were selected.<br>\n",
    "By this, we can say that, this cluster consists of good products and runing our algorithm over this would provide best results.<br>\n",
    "But here, our dataset is small and we are doing this only to verify if this technique works. So, we'll just skip the data picking step."
   ]
  },
  {
   "cell_type": "code",
   "execution_count": 10,
   "metadata": {
    "colab": {},
    "colab_type": "code",
    "id": "nf8kANqXBxZD"
   },
   "outputs": [],
   "source": [
    "n_clusters = 5\n",
    "kmeans = KMeans(n_clusters=n_clusters, random_state=0).fit(data[CP])"
   ]
  },
  {
   "cell_type": "code",
   "execution_count": 11,
   "metadata": {
    "colab": {},
    "colab_type": "code",
    "id": "ykVRAYyoCv5O"
   },
   "outputs": [],
   "source": [
    "# Cluster number of each datapoint\n",
    "labels = list(kmeans.labels_)\n",
    "# print(labels)"
   ]
  },
  {
   "cell_type": "code",
   "execution_count": 12,
   "metadata": {
    "colab": {},
    "colab_type": "code",
    "id": "F0kp4b9xHqCY"
   },
   "outputs": [],
   "source": [
    "arr = [[] for i in range(n_clusters)]\n",
    "for i in range(len(labels)):\n",
    "  arr[labels[i]].append(i)\n",
    "Clusters = [[] for i in range(n_clusters)]\n",
    "for i in range(n_clusters):\n",
    "  Clusters[i] = data[arr[i],:]"
   ]
  },
  {
   "cell_type": "code",
   "execution_count": 13,
   "metadata": {
    "colab": {
     "base_uri": "https://localhost:8080/",
     "height": 34
    },
    "colab_type": "code",
    "id": "HYsiJK-LYn9N",
    "outputId": "8b312fea-ad37-4b33-8d3e-e7a70d4ac691"
   },
   "outputs": [
    {
     "name": "stdout",
     "output_type": "stream",
     "text": [
      "[0-265], [1-317], [2-100], [3-270], [4-257], "
     ]
    }
   ],
   "source": [
    "# Print the no. of products each cluster contains.\n",
    "for i in range(n_clusters):\n",
    "  print(\"[%d-%d]\"% (i,len(Clusters[i])), end=', ')"
   ]
  },
  {
   "cell_type": "code",
   "execution_count": 14,
   "metadata": {
    "colab": {
     "base_uri": "https://localhost:8080/",
     "height": 104
    },
    "colab_type": "code",
    "id": "Cn5qUQlMA2gx",
    "outputId": "318e19af-48d4-421a-e360-8f9983e3c210"
   },
   "outputs": [
    {
     "name": "stdout",
     "output_type": "stream",
     "text": [
      "\n",
      "products selected by SPG algo\n",
      "2, 2, 2, 2, 2, \n",
      "products selected by IG algo\n",
      "2, 2, 2, 2, 2, "
     ]
    }
   ],
   "source": [
    "print(\"\\nproducts selected by SPG algo\")\n",
    "for i in SPG_k:\n",
    "  print(labels[i[1]], end=', ')\n",
    "print(\"\\nproducts selected by IG algo\")\n",
    "for i in IG_k:\n",
    "  print(labels[i], end=', ')"
   ]
  },
  {
   "cell_type": "markdown",
   "metadata": {
    "colab_type": "text",
    "id": "sXuIUb_mTpSD"
   },
   "source": [
    "In the above case, majority of the products were selected from 4th cluster.<br>\n",
    "So, we will run the algorithms once again over 4th cluster."
   ]
  },
  {
   "cell_type": "code",
   "execution_count": 15,
   "metadata": {
    "colab": {
     "base_uri": "https://localhost:8080/",
     "height": 121
    },
    "colab_type": "code",
    "id": "GYyENrTXEClN",
    "outputId": "c97d114d-1564-4731-a20b-dc6c9bb3042e"
   },
   "outputs": [
    {
     "name": "stdout",
     "output_type": "stream",
     "text": [
      "Single Product Based Greedy Algorithm : \n",
      " [(1.5117647058823487, 58), (1.5176470588235251, 19), (1.541176470588231, 179), (1.5176470588235251, 49), (1.5588235294117603, 102)]\n",
      "Time taken: 1\n",
      "Incremental Based Greedy Algorithm : \n",
      " [102 179  19  49  58]\n",
      "Time taken: 8\n"
     ]
    }
   ],
   "source": [
    "# Run over the cluster from which majority of the products have been selected previously.\n",
    "cluster = 4\n",
    "\n",
    "# Taking K as 5\n",
    "k=5\n",
    "SBS_New = SBS[arr[cluster]]\n",
    "SBS_New = np.append(SBS_New, SBS[EP,:], axis=0)\n",
    "h,w = SBS_New.shape\n",
    "\n",
    "# Creating Sets of Customers, Candidate Products and Existing Products.\n",
    "C = np.arange(0, w)\n",
    "# CP = np.arange(0, (h*70)//100)\n",
    "# EP = np.arange((h*70)//100, h)\n",
    "CP = np.arange(0, len(Clusters[cluster]))\n",
    "EP = np.arange(len(Clusters[cluster]), h)\n",
    "\n",
    "\n",
    "# SPGA\n",
    "timeTaken = datetime.datetime.now()\n",
    "CSPG_k = SPG(k, SBS_New, EP, CP)\n",
    "timeTaken = datetime.datetime.now() - timeTaken \n",
    "print(\"Single Product Based Greedy Algorithm : \\n\", CSPG_k)\n",
    "print(\"Time taken:\", timeTaken.seconds)\n",
    "\n",
    "# IG\n",
    "timeTaken = datetime.datetime.now()\n",
    "CIG_k = IG(k, SBS_New, EP, CP)\n",
    "timeTaken = datetime.datetime.now() - timeTaken\n",
    "print(\"Incremental Based Greedy Algorithm : \\n\", CIG_k)\n",
    "print(\"Time taken:\", timeTaken.seconds)\n",
    "\n",
    "# # UBP\n",
    "# timeTaken = datetime.datetime.now()\n",
    "# CUBP_k = UBP(k, SBS_New, EP, CP)\n",
    "# timeTaken = datetime.datetime.now() - timeTaken\n",
    "# print(\"Upper Bound Pruning Algorithm : \\n\", CUBP_k)\n",
    "# print(\"Time taken:\", timeTaken.seconds)"
   ]
  },
  {
   "cell_type": "code",
   "execution_count": 16,
   "metadata": {
    "colab": {
     "base_uri": "https://localhost:8080/",
     "height": 104
    },
    "colab_type": "code",
    "id": "YkL1iu_maslj",
    "outputId": "0a42b2e0-3486-4658-8b39-b6b2b0b76c71"
   },
   "outputs": [
    {
     "name": "stdout",
     "output_type": "stream",
     "text": [
      "\n",
      "products selected by CSPG algo\n",
      "256, 106, 841, 218, 462, \n",
      "products selected by CIG algo\n",
      "462, 841, 106, 218, 256, "
     ]
    }
   ],
   "source": [
    "print(\"\\nproducts selected by CSPG algo\")\n",
    "for i in CSPG_k:\n",
    "  print(arr[cluster][i[1]], end=', ')\n",
    "print(\"\\nproducts selected by CIG algo\")\n",
    "for i in CIG_k:\n",
    "  print(arr[cluster][i], end=', ')"
   ]
  },
  {
   "cell_type": "markdown",
   "metadata": {
    "colab_type": "text",
    "id": "EjeaQY1oVph2"
   },
   "source": [
    "# Conclusion\n",
    "<b> Running over the whole data set</b> <br>\n",
    "Single Product Based Greedy Algorithm : <br>\n",
    " [(0.995594713656393, 927), (0.9977973568281991, 601), (0.995594713656393, 1144), (1.0022026431718114, 830), (1.0088105726872296, 1119)]<br>\n",
    "Time taken: 3 <br>\n",
    "Incremental Based Greedy Algorithm : <br>\n",
    " [1119  830  601  927 1144] <br>\n",
    "Time taken: 27 <br><br>\n",
    "\n",
    "<b> Running over cluster 4</b> <br>\n",
    "products selected by CSPG algo <br>\n",
    "927, 601, 1144, 830, 1119,  <br>\n",
    "Time taken: 0 <br>\n",
    "products selected by CIG algo <br>\n",
    "1119, 830, 601, 927, 1144,  <br>\n",
    "Time taken: 2 <br>\n",
    "<br>\n",
    "As we can see, the results were the same in both cases and the time taken is very low when we apply over only one cluster.<br>\n",
    "Thus KMDP can be optimised up to **10x** using K-means technique.\n",
    "\n"
   ]
  }
 ],
 "metadata": {
  "celltoolbar": "Tags",
  "colab": {
   "collapsed_sections": [
    "0Lf407M54epu",
    "JNlJmU8Z4ep-",
    "r9WBiwHy4eqR",
    "md0nksdR4eqf"
   ],
   "name": "k-MostDemandingProducts.ipynb",
   "provenance": []
  },
  "kernelspec": {
   "display_name": "Python 3",
   "language": "python",
   "name": "python3"
  },
  "language_info": {
   "codemirror_mode": {
    "name": "ipython",
    "version": 3
   },
   "file_extension": ".py",
   "mimetype": "text/x-python",
   "name": "python",
   "nbconvert_exporter": "python",
   "pygments_lexer": "ipython3",
   "version": "3.6.9"
  }
 },
 "nbformat": 4,
 "nbformat_minor": 1
}
